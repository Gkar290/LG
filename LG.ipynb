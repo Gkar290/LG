{
  "nbformat": 4,
  "nbformat_minor": 0,
  "metadata": {
    "colab": {
      "provenance": []
    },
    "kernelspec": {
      "name": "python3",
      "display_name": "Python 3"
    },
    "language_info": {
      "name": "python"
    }
  },
  "cells": [
    {
      "cell_type": "markdown",
      "source": [
        "QSN-1-What is Simple Linear Regression\n",
        "\n",
        "ANS-\n",
        "Simple Linear Regression (SLR) is a statistical method that models the relationship between two continuous variables. It aims to predict the value of a dependent variable (y) based on the value of an independent variable (x).\n",
        "\n",
        "Key Components:\n",
        "1. Dependent Variable (y): The variable being predicted.\n",
        "2. Independent Variable (x): The variable used to make predictions.\n",
        "3. Regression Equation: y = β0 + β1x + ε, where β0 is the intercept, β1 is the slope, and ε is the error term.\n"
      ],
      "metadata": {
        "id": "7eUWNNXawfZl"
      }
    },
    {
      "cell_type": "markdown",
      "source": [
        "QSN-2-What are the key assumptions of Simple Linear Regression\n",
        "\n",
        "ANS-\n",
        "\n",
        "Simple Linear Regression (SLR) relies on several key assumptions:\n",
        "\n",
        "1. Linearity\n",
        "The relationship between the independent variable (x) and the dependent variable (y) should be linear.\n",
        "\n",
        "2. Independence\n",
        "Observations should be independent of each other, meaning the value of one observation doesn't affect another.\n",
        "\n",
        "3. Homoscedasticity\n",
        "The variance of the residuals (errors) should be constant across all levels of the independent variable.\n",
        "\n",
        "4. Normality\n",
        "The residuals should be normally distributed.\n",
        "\n",
        "5. No Multicollinearity\n",
        "Although SLR only has one independent variable, it's worth noting that multicollinearity isn't a concern here. However, if you're extending to multiple regression, this becomes importan"
      ],
      "metadata": {
        "id": "IH_Ob9dlws5p"
      }
    },
    {
      "cell_type": "markdown",
      "source": [
        "QSN-3-What does the coefficient m represent in the equation Y=mX+c\n",
        "\n",
        "ANS-\n",
        "In the equation Y = mX + c:\n",
        "\n",
        "Coefficient m represents:\n",
        "1. Slope: The rate of change of Y with respect to X.\n",
        "2. Change in Y: For every one-unit increase in X, Y changes by m units.\n",
        "\n",
        "Interpretation:\n",
        "1. Positive m: As X increases, Y also increases.\n",
        "2. Negative m: As X increases, Y decreases.\n",
        "\n",
        "Example:\n",
        "If m = 2, then for every one-unit increase in X, Y increases by 2 units.\n",
        "\n",
        "The slope (m) helps understand the relationship between X and Y."
      ],
      "metadata": {
        "id": "MSrn3fm5w7LJ"
      }
    },
    {
      "cell_type": "markdown",
      "source": [
        "QNS-4-What does the intercept c represent in the equation Y=mX+c\n",
        "\n",
        "ANS-\n",
        "In the equation Y = mX + c:\n",
        "\n",
        "Intercept c represents:\n",
        "1. Y-intercept: The value of Y when X is 0.\n",
        "2. Starting point: The point where the line intersects the Y-axis.\n",
        "\n",
        "Interpretation:\n",
        "1. Baseline value: c represents the value of Y when X has no effect (i.e., X = 0).\n",
        "2. Adjustment: c adjusts the line up or down on the Y-axis.\n",
        "\n",
        "Example:\n",
        "If c = 3, then when X is 0, Y is 3.\n",
        "\n",
        "The intercept (c) provides context to the relationship between X and Y."
      ],
      "metadata": {
        "id": "rggJgRiQxJeB"
      }
    },
    {
      "cell_type": "markdown",
      "source": [
        "QSN-5-How do we calculate the slope m in Simple Linear Regression\n",
        "\n",
        "ANS-\n",
        "\n",
        "m = r * (σy / σx)\n",
        "\n",
        "Where:\n",
        "\n",
        "1. r = correlation coefficient between X and Y\n",
        "2. σy = standard deviation of Y\n",
        "3. σx = standard deviation of X\n",
        "\n",
        "This formula highlights the relationship between the slope and the correlation between X and Y."
      ],
      "metadata": {
        "id": "-GnytkB1xd-a"
      }
    },
    {
      "cell_type": "markdown",
      "source": [
        "QNS-6-What is the purpose of the least squares method in Simple Linear Regression\n",
        "\n",
        "ANS-\n",
        "\n",
        "Key Purpose:\n",
        "1. Minimize Errors: Reduce the difference between actual and predicted values.\n",
        "2. Optimal Fit: Determine the line that best represents the relationship between variables."
      ],
      "metadata": {
        "id": "8PSqiNwgxtff"
      }
    },
    {
      "cell_type": "markdown",
      "source": [
        "QSN-7-how is the coefficient of determination (R²) interpreted in Simple Linear Regression\n",
        "\n",
        "ANS-\n",
        "R² (Coefficient of Determination) measures the proportion of variance in the dependent variable (Y) explained by the independent variable (X).\n",
        "\n",
        "Interpretation:\n",
        "- R² = 1: Perfect fit, all variance explained.\n",
        "- R² = 0: No explanatory power, model doesn't fit data.\n",
        "- 0 < R² < 1: Proportion of variance explained (e.g., R² = 0.8 means 80% of variance explained).\n",
        "\n",
        "Implications:\n",
        "- Model fit: Higher R² indicates better fit.\n",
        "- Relationship strength: Higher R² suggests stronger relationship between X and Y.\n",
        "\n",
        "Keep in mind that R² has limitations, such as sensitivity to outliers and not implying causation\n"
      ],
      "metadata": {
        "id": "YrQdzNg-x-ti"
      }
    },
    {
      "cell_type": "markdown",
      "source": [
        "QSN-8-What is Multiple Linear Regression\n",
        "\n",
        "ANS-\n",
        "Multiple Linear Regression (MLR) is a statistical technique that:\n",
        "\n",
        "Extends Simple Linear Regression\n",
        "By incorporating multiple independent variables (predictors) to predict a continuous dependent variable (outcome).\n",
        "\n",
        "Equation:\n",
        "Y = β0 + β1X1 + β2X2 + … + βnXn + ε\n",
        "\n",
        "Where:\n",
        "\n",
        "1. Y = dependent variable\n",
        "2. X1, X2, …, Xn = independent variables\n",
        "3. β0 = intercept\n",
        "4. β1, β2, …, βn = coefficients for each independent variable\n",
        "5. ε = error term\n"
      ],
      "metadata": {
        "id": "Zrf5eD7V2WDY"
      }
    },
    {
      "cell_type": "markdown",
      "source": [
        "QSN-9-What is the main difference between Simple and Multiple Linear Regression\n",
        "\n",
        "ANS-\n",
        "The main difference between Simple Linear Regression (SLR) and Multiple Linear Regression (MLR) is:\n",
        "\n",
        "Number of Independent Variables:\n",
        "1. Simple Linear Regression (SLR): One independent variable (X) predicts the dependent variable (Y).\n",
        "2. Multiple Linear Regression (MLR): Two or more independent variables (X1, X2, ..., Xn) predict the dependent variable (Y).\n",
        "\n",
        "Implications:\n",
        "1. Complexity: MLR can handle more complex relationships and interactions between variables.\n",
        "2. Predictive power: MLR can provide more accurate predictions by incorporating multiple relevant variables.\n"
      ],
      "metadata": {
        "id": "5lmXm-B22tLt"
      }
    },
    {
      "cell_type": "markdown",
      "source": [
        "QSN-10-What are the key assumptions of Multiple Linear Regression\n",
        "\n",
        "ANS-\n",
        "Multiple Linear Regression (MLR) relies on several key assumptions:\n",
        "\n",
        "1. Linearity\n",
        "The relationship between each independent variable and the dependent variable should be linear.\n",
        "\n",
        "2. Independence\n",
        "Observations should be independent of each other.\n",
        "\n",
        "3. Homoscedasticity\n",
        "The variance of the residuals should be constant across all levels of the independent variables.\n",
        "\n",
        "4. Normality\n",
        "The residuals should be normally distributed.\n",
        "\n",
        "5. No Multicollinearity\n",
        "Independent variables should not be highly correlated with each other.\n",
        "\n",
        "6. No Autocorrelation\n",
        "Residuals should not be correlated with each other.\n"
      ],
      "metadata": {
        "id": "ieu1llbf2-BC"
      }
    },
    {
      "cell_type": "markdown",
      "source": [
        "QSN-11-What is heteroscedasticity, and how does it affect the results of a Multiple Linear Regression model\n",
        "\n",
        "ANS-\n",
        "Heteroscedasticity refers to the condition where:\n",
        "\n",
        "Variance of Residuals Varies\n",
        "The variance of the residuals (errors) is not constant across all levels of the independent variables.\n",
        "\n",
        "Effects on Multiple Linear Regression:\n",
        "1. Inefficient estimates: Heteroscedasticity can lead to inefficient estimates of regression coefficients.\n",
        "2. Biased standard errors: It can result in biased standard errors, affecting hypothesis testing and confidence intervals.\n",
        "3. Incorrect conclusions: Heteroscedasticity can lead to incorrect conclusions about the relationships between variables.\n",
        "\n"
      ],
      "metadata": {
        "id": "KmFzXyaB3P6C"
      }
    },
    {
      "cell_type": "markdown",
      "source": [
        "QSN-12-How can you improve a Multiple Linear Regression model with high multicollinearity\n",
        "\n",
        "ANS-\n",
        "\n",
        "To improve a Multiple Linear Regression model with high multicollinearity:\n",
        "\n",
        "Detect Multicollinearity\n",
        "1. Variance Inflation Factor (VIF): Calculate VIF for each independent variable. A high VIF (typically > 5 or 10) indicates multicollinearity.\n",
        "2. Correlation matrix: Examine the correlation matrix to identify highly correlated variables.\n",
        "\n",
        "Remedies:\n",
        "1. Remove highly correlated variables: Drop one of the highly correlated variables to reduce multicollinearity.\n",
        "2. Combine variables: Combine highly correlated variables into a single variable or index.\n",
        "3. Regularization techniques: Use regularization techniques like Ridge regression or Lasso regression to penalize large coefficients.\n",
        "4. Principal Component Regression (PCR): Use PCR to reduce dimensionality and multicollinearity.\n",
        "5. Collect more data: Increasing the sample size can help alleviate multicollinearity.\n"
      ],
      "metadata": {
        "id": "zOFS9nUJ3rm_"
      }
    },
    {
      "cell_type": "markdown",
      "source": [
        "QSN-13-What are some common techniques for transforming categorical variables for use in regression models\n",
        "\n",
        "ANS-\n",
        "Common techniques for transforming categorical variables for regression models:\n",
        "\n",
        "1. One-Hot Encoding (Dummy Coding)\n",
        "Create binary variables for each category, where one category is often dropped to avoid multicollinearity.\n",
        "\n",
        "2. Label Encoding\n",
        "Assign numerical values to categories, but be cautious of implying ordinal relationships.\n",
        "\n",
        "3. Ordinal Encoding\n",
        "Assign numerical values to categories based on their ordinal relationship.\n",
        "\n",
        "4. Binary Encoding\n",
        "Use binary code to represent categories, reducing dimensionality compared to one-hot encoding.\n",
        "\n",
        "5. Target Encoding\n",
        "Replace categories with the mean (or other aggregate) of the target variable for each category."
      ],
      "metadata": {
        "id": "FJPBzTk839Nh"
      }
    },
    {
      "cell_type": "markdown",
      "source": [
        "QSN-14-What is the role of interaction terms in Multiple Linear Regression\n",
        "\n",
        "ANS-\n",
        "Interaction terms in Multiple Linear Regression:\n",
        "\n",
        "Purpose:\n",
        "1. Capturing interactions: Interaction terms help capture the interaction effects between two or more independent variables on the dependent variable.\n",
        "2. Moderating effects: They allow for modeling how the effect of one independent variable on the dependent variable changes depending on the level of another independent variable.\n",
        "\n",
        "Interpretation:\n",
        "1. Synergistic effects: Interaction terms can reveal synergistic effects where the combined effect of two variables is greater than the sum of their individual effects.\n",
        "2. Conditional relationships: They help understand conditional relationships between variables, where the effect of one variable depends on another.\n",
        "\n"
      ],
      "metadata": {
        "id": "Pb8x2XzN4QwI"
      }
    },
    {
      "cell_type": "markdown",
      "source": [
        "QSN-15-How can the interpretation of intercept differ between Simple and Multiple Linear Regression\n",
        "\n",
        "ANS-\n",
        "The interpretation of the intercept differs between Simple and Multiple Linear Regression:\n",
        "\n",
        "Simple Linear Regression:\n",
        "1. Y-intercept: The intercept represents the expected value of Y when X is 0.\n",
        "2. Direct interpretation: It's a straightforward interpretation, indicating the baseline value of Y.\n",
        "\n",
        "Multiple Linear Regression:\n",
        "1. Conditional interpretation: The intercept represents the expected value of Y when all independent variables (X1, X2, ..., Xn) are 0.\n",
        "2. Context-dependent: Interpretation depends on the context and whether 0 is a meaningful value for each independent variable.\n"
      ],
      "metadata": {
        "id": "2f_q01394k4b"
      }
    },
    {
      "cell_type": "markdown",
      "source": [
        "QSN-16-What is the significance of the slope in regression analysis, and how does it affect predictions.\n",
        "\n",
        "ANS-\n",
        "The slope in regression analysis:\n",
        "\n",
        "Significance:\n",
        "1. Rate of change: The slope represents the rate of change in the dependent variable (Y) for a one-unit change in the independent variable (X).\n",
        "2. Direction of relationship: The slope indicates the direction of the relationship between X and Y (positive or negative).\n",
        "\n",
        "Effect on predictions:\n",
        "1. Predictive power: The slope is crucial for making predictions, as it determines how changes in X affect Y.\n",
        "2. Interpretation: Understanding the slope helps interpret the relationship between variables and make informed decisions.\n"
      ],
      "metadata": {
        "id": "fTIvMlAG4y2j"
      }
    },
    {
      "cell_type": "markdown",
      "source": [
        "QSN-17-How does the intercept in a regression model provide context for the relationship between variables\n",
        "\n",
        "ANS-\n",
        "The intercept in a regression model:\n",
        "\n",
        "Provides baseline value:\n",
        "1. Expected value: The intercept represents the expected value of the dependent variable (Y) when all independent variables (X) are 0.\n",
        "2. Baseline reference: It serves as a baseline reference point for interpreting the relationship between variables.\n",
        "\n",
        "Contextualizes relationship:\n",
        "1. Starting point: The intercept provides a starting point for understanding how changes in X affect Y.\n",
        "2. Adjusting for other variables: In multiple regression, the intercept adjusts for the effects of other variables in the model.\n",
        "\n"
      ],
      "metadata": {
        "id": "na9kdrc75GEU"
      }
    },
    {
      "cell_type": "markdown",
      "source": [
        "QSN-17-How does the intercept in a regression model provide context for the relationship between variables.\n",
        "\n",
        "ANS-\n",
        "The intercept in a regression model provides context for the relationship between variables in the following ways:\n",
        "\n",
        "1. Baseline Value\n",
        "The intercept represents the expected value of the dependent variable (Y) when all independent variables (X) are 0. This serves as a baseline or reference point.\n",
        "\n",
        "2. Adjusting for Other Variables\n",
        "In multiple regression, the intercept adjusts for the effects of other variables in the model, providing a more nuanced understanding of the relationships.\n",
        "\n",
        "3. Interpretation\n",
        "The intercept helps interpret the relationship between variables by providing a starting point for understanding how changes in X affect Y."
      ],
      "metadata": {
        "id": "NFplR0hU5X7Y"
      }
    },
    {
      "cell_type": "markdown",
      "source": [
        "QSN-18-What are the limitations of using R² as a sole measure of model performance.\n",
        "\n",
        "ANS-\n",
        "Limitations of using R² as a sole measure of model performance:\n",
        "\n",
        "1. Overfitting\n",
        "R² can be inflated by overfitting, where a model is too complex and fits the noise in the training data.\n",
        "\n",
        "2. Lack of Predictive Power\n",
        "R² measures fit to the training data, not predictive power on new data.\n",
        "\n",
        "3. Model Complexity\n",
        "R² doesn't account for model complexity, making it difficult to compare models with different numbers of parameters.\n",
        "\n",
        "4. Non-Normality\n",
        "R² assumes normality of residuals; non-normality can lead to misleading interpretations.\n",
        "\n",
        "5. Limited Comparison\n",
        "R² is sensitive to the range of the data, making it challenging to compare models across different datasets."
      ],
      "metadata": {
        "id": "pryOJeMO4rvU"
      }
    },
    {
      "cell_type": "markdown",
      "source": [
        "QSN-19-How would you interpret a large standard error for a regression coefficient\n",
        "\n",
        "ANS-\n",
        "\n",
        "A large standard error for a regression coefficient:\n",
        "\n",
        "Implications:\n",
        "1. Uncertainty: A large standard error indicates high uncertainty around the estimated coefficient value.\n",
        "2. Imprecision: The coefficient estimate may not be precise, making it challenging to determine the true relationship between the independent variable and the dependent variable.\n",
        "3. Statistical insignificance: A large standard error can lead to a statistically insignificant coefficient, suggesting that the variable may not have a significant impact on the dependent variable.\n"
      ],
      "metadata": {
        "id": "X-w113r92qWW"
      }
    },
    {
      "cell_type": "markdown",
      "source": [
        "QSN-20-How can heteroscedasticity be identified in residual plots, and why is it important to address it.\n",
        "\n",
        "ANS-\n",
        "\n",
        "Identification:\n",
        "1. Non-random pattern: Residuals exhibit a non-random pattern, such as a funnel-shaped or cone-shaped pattern, indicating varying variance across the range of fitted values.\n",
        "2. Spread increases or decreases: The spread of residuals increases or decreases as the fitted values increase, indicating non-constant variance.\n",
        "\n",
        "Importance of addressing heteroscedasticity:\n",
        "1. Biased standard errors: Heteroscedasticity can lead to biased standard errors, affecting the reliability of hypothesis tests and confidence intervals.\n",
        "2. Inefficient estimates: Heteroscedasticity can result in inefficient estimates of regression coefficients.\n",
        "3. Model interpretation: Failing to address heteroscedasticity can lead to incorrect conclusions about the relationships between variables.\n",
        "\n",
        "Addressing heteroscedasticity:\n",
        "1. Transformation: Apply transformations to the dependent variable or independent variables.\n",
        "2. Weighted least squares: Use weighted least squares regression to account for varying variance.\n",
        "3. Robust standard errors: Calculate robust standard errors to account for heteroscedasticity.\n"
      ],
      "metadata": {
        "id": "hyHtixBu3Bw2"
      }
    },
    {
      "cell_type": "markdown",
      "source": [
        "QSN-21-What does it mean if a Multiple Linear Regression model has a high R² but low adjusted R²\n",
        "\n",
        "ANS-\n",
        "\n",
        "A Multiple Linear Regression model with a high R² but low adjusted R²:\n",
        "\n",
        "Implication:\n",
        "The model likely suffers from overfitting, where the inclusion of too many independent variables or irrelevant variables has inflated the R² value.\n",
        "\n",
        "Reasons:\n",
        "1. Too many variables: Including too many variables can artificially inflate R².\n",
        "2. Irrelevant variables: Including irrelevant variables can decrease the model's generalizability.\n",
        "\n",
        "Adjusted R²:\n",
        "The adjusted R² penalizes the model for the number of variables included, providing a more conservative estimate of the model's fit."
      ],
      "metadata": {
        "id": "OuU9puCG3O0-"
      }
    },
    {
      "cell_type": "markdown",
      "source": [
        "QSN-22-Why is it important to scale variables in Multiple Linear Regression.\n",
        "\n",
        "ANS-\n",
        "Scaling variables in Multiple Linear Regression:\n",
        "\n",
        "Importance:\n",
        "1. Coefficient interpretation: Scaling variables can affect the interpretation of coefficients, making it easier to compare the effects of different variables.\n",
        "2. Model stability: Scaling can improve model stability and reduce the impact of multicollinearity.\n",
        "3. Gradient-based optimization: Scaling variables can improve the convergence of gradient-based optimization algorithms.\n",
        "\n",
        "When to scale:\n",
        "1. Variables with different units: Scale variables with different units or scales to ensure comparability.\n",
        "2. Large differences in scale: Scale variables with large differences in scale to prevent variables with large ranges from dominating the model.\n"
      ],
      "metadata": {
        "id": "mvU4Er243kdC"
      }
    },
    {
      "cell_type": "markdown",
      "source": [
        "QSN-23-What is polynomial regression\n",
        "\n",
        "ANS-\n",
        "\n",
        "Definition:\n",
        "Polynomial regression is a type of regression analysis where the relationship between the independent variable (X) and the dependent variable (Y) is modeled using a polynomial equation of degree n.\n",
        "\n",
        "Equation:\n",
        "The general form of a polynomial regression equation is:\n",
        "\n"
      ],
      "metadata": {
        "id": "R-AOl8Kk300I"
      }
    },
    {
      "cell_type": "markdown",
      "source": [
        "QSN-24-How does polynomial regression differ from linear regression\n",
        "\n",
        "ANS-\n",
        "Polynomial regression vs. Linear regression:\n",
        "\n",
        "Key differences:\n",
        "1. Relationship: Linear regression models a linear relationship between variables, while polynomial regression models a non-linear relationship using a polynomial equation.\n",
        "2. Equation form: Linear regression has a straight-line equation (Y = β0 + β1X), whereas polynomial regression has a curved equation (Y = β0 + β1X + β2X² + … + βnXⁿ).\n",
        "3. Flexibility: Polynomial regression is more flexible and can capture complex relationships, but may overfit if the degree is too high.\n",
        "\n"
      ],
      "metadata": {
        "id": "7Qh4uKZd4BXl"
      }
    },
    {
      "cell_type": "markdown",
      "source": [
        "QSN-25-When is polynomial regression used\n",
        "\n",
        "ANS-\n",
        "Polynomial regression is used When relationships are non-linear:\n",
        "\n",
        "1. Curvilinear relationships: When the relationship between variables is curved or non-linear.\n",
        "2. Complex relationships: When the relationship between variables is complex and can't be captured by a linear model.\n"
      ],
      "metadata": {
        "id": "mtyiRorf4NoS"
      }
    },
    {
      "cell_type": "markdown",
      "source": [
        "QSN-26-What is the general equation for polynomial regression\n",
        "\n",
        "ANS-\n",
        "The general equation for polynomial regression:\n",
        "\n",
        "Y = β0 + β1X + β2X² + β3X³ + … + βnXⁿ + ε\n",
        "\n",
        "Where:\n",
        "\n",
        "1. Y: Dependent variable\n",
        "2. X: Independent variable\n",
        "3. β0, β1, …, βn: Coefficients\n",
        "4. n: Degree of the polynomial\n",
        "5. ε: Error term"
      ],
      "metadata": {
        "id": "cUiLrr9M4fKi"
      }
    },
    {
      "cell_type": "markdown",
      "source": [
        "QSN-27-Can polynomial regression be applied to multiple variables.\n",
        "\n",
        "ANS-\n",
        "Yes, polynomial regression can be applied to multiple variables:\n",
        "\n",
        "Multivariate polynomial regression:\n",
        "The general equation for multivariate polynomial regression is:\n",
        "\n",
        "Y = β0 + ΣβiXi + ΣβijXiXj + ΣβiikXi²Xk + … + ε\n",
        "\n",
        "Where:\n",
        "\n",
        "1. Xi, Xj, Xk: Independent variables\n",
        "2. βi, βij, βiik: Coefficients\n",
        "3. ε: Error term\n"
      ],
      "metadata": {
        "id": "yzKOVVtQ4tk8"
      }
    },
    {
      "cell_type": "markdown",
      "source": [
        "QSN-28-What are the limitations of polynomial regression.\n",
        "\n",
        "ANS-\n",
        "Limitations of polynomial regression:\n",
        "\n",
        "1. Overfitting\n",
        "High-degree polynomials can lead to overfitting, capturing noise rather than the underlying relationship.\n",
        "\n",
        "2. Model complexity\n",
        "Polynomial regression models can become complex and difficult to interpret, especially with multiple variables.\n",
        "\n",
        "3. Runge's phenomenon\n",
        "High-degree polynomials can exhibit oscillatory behavior, especially near the edges of the data range.\n",
        "\n",
        "4. Extrapolation\n",
        "Polynomial regression models can perform poorly when extrapolating beyond the range of the training data.\n",
        "\n",
        "5. Computational issues\n",
        "High-degree polynomials can lead to numerical instability and computational issues."
      ],
      "metadata": {
        "id": "2x2Pjt5244Fx"
      }
    },
    {
      "cell_type": "markdown",
      "source": [
        "QSN-29-What methods can be used to evaluate model fit when selecting the degree of a polynomial\n",
        "\n",
        "ANS-\n",
        "Methods to evaluate model fit:\n",
        "\n",
        "1. Visual inspection\n",
        "Plot the data and the fitted model to visually assess the fit.\n",
        "\n",
        "2. Goodness-of-fit metrics\n",
        "1. R-squared (R²): Measures the proportion of variance explained by the model.\n",
        "2. Mean Squared Error (MSE): Measures the average squared difference between predicted and actual values.\n",
        "\n",
        "3. Cross-validation\n",
        "1. K-fold cross-validation: Split the data into training and testing sets to evaluate the model's performance on unseen data.\n",
        "\n",
        "4. Residual analysis\n",
        "1. Residual plots: Plot residuals against fitted values or independent variables to check for patterns or non-random behavio"
      ],
      "metadata": {
        "id": "ax6l2Yhn5DvA"
      }
    },
    {
      "cell_type": "markdown",
      "source": [
        "QSN-30-Why is visualization important in polynomial regression.\n",
        "\n",
        "ANS-\n",
        "Visualization in polynomial regression:\n",
        "\n",
        "Importance:\n",
        "1. Model assessment: Visualization helps assess the fit of the model to the data.\n",
        "2. Pattern detection: It aids in detecting patterns, such as non-linear relationships, outliers, or anomalies.\n",
        "3. Model comparison: Visualization facilitates comparison of different models, such as polynomials of varying degrees.\n",
        "\n",
        "Benefits:\n",
        "1. Insight into relationships: Visualization provides insight into the relationships between variables.\n",
        "2. Model diagnosis: It helps diagnose issues, such as overfitting or underfitting.\n",
        "3. Communication: Visualization effectively communicates complex relationships and model results.\n"
      ],
      "metadata": {
        "id": "XBCm-IgK5ccH"
      }
    },
    {
      "cell_type": "code",
      "source": [
        "#QSN-31-How is polynomial regression implemented in Python.\n",
        "#ANS-\n",
        "import numpy as np\n",
        "from sklearn.preprocessing import PolynomialFeatures\n",
        "from sklearn.linear_model import LinearRegression\n",
        "import matplotlib.pyplot as plt\n",
        "\n",
        "# Generate data\n",
        "x = np.linspace(-10, 10, 100).reshape(-1, 1)\n",
        "y = 3 * x**2 + 2 * x + 1 + np.random.randn(100, 1)\n",
        "\n",
        "# Create polynomial features\n",
        "poly_features = PolynomialFeatures(degree=2)\n",
        "x_poly = poly_features.fit_transform(x)\n",
        "\n",
        "# Fit polynomial regression model\n",
        "model = LinearRegression()\n",
        "model.fit(x_poly, y)\n",
        "\n",
        "# Predict and plot\n",
        "y_pred = model.predict(x_poly)\n",
        "plt.scatter(x, y)\n",
        "plt.plot(x, y_pred, color='red')\n",
        "plt.show()"
      ],
      "metadata": {
        "colab": {
          "base_uri": "https://localhost:8080/",
          "height": 430
        },
        "id": "p06fh8GX6ToJ",
        "outputId": "5e84cb73-ec51-4322-9e43-f439c4761b97"
      },
      "execution_count": 1,
      "outputs": [
        {
          "output_type": "display_data",
          "data": {
            "text/plain": [
              "<Figure size 640x480 with 1 Axes>"
            ],
            "image/png": "[encoded data removed]"
          },
          "metadata": {}
        }
      ]
    }
  ]
}